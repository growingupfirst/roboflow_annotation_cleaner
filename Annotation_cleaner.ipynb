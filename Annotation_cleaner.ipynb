{
 "cells": [
  {
   "cell_type": "code",
   "execution_count": 80,
   "id": "610a6d4d-caa9-4a8e-abc2-0998b37e8fb4",
   "metadata": {},
   "outputs": [],
   "source": [
    "import os\n",
    "import json"
   ]
  },
  {
   "cell_type": "code",
   "execution_count": 154,
   "id": "99bdffd4-d13d-444c-a93b-bc18706943b8",
   "metadata": {},
   "outputs": [],
   "source": [
    "images_path_test = input('Please enter the path to test folder (Example:\"folder/in_folder/test\"):')\n",
    "images_path_train = input('Please enter the path to test folder (Example:\"folder/in_folder/train\"):')\n",
    "images_path_val = input('Please enter the path to test folder (Example:\"folder/in_folder/val\"):')\n",
    "\n",
    "image_paths = [images_path_test, images_path_train, images_path_val]"
   ]
  },
  {
   "cell_type": "code",
   "execution_count": null,
   "id": "545bb1af-8490-4bc2-a70a-ee5e1267ae3f",
   "metadata": {},
   "outputs": [],
   "source": [
    "# setting up the functions\n",
    "def remove_duplicate_filenames(file_list):\n",
    "    unique_names = []\n",
    "    #search for .rh to file the real name\n",
    "    for filename in file_list:\n",
    "        if '.rf' in filename:\n",
    "            index_rf = filename.index('.rf')\n",
    "            if filename[:index_rf] not in [name[:index_rf] for name in unique_names]:\n",
    "                    unique_names.append(filename)\n",
    "            else:\n",
    "                os.remove(filename)    \n",
    "    return unique_names"
   ]
  },
  {
   "cell_type": "code",
   "execution_count": 164,
   "id": "340a3afd-4cac-49d9-b0b4-7dc65d4b0028",
   "metadata": {
    "scrolled": true
   },
   "outputs": [],
   "source": [
    "for path in image_paths:\n",
    "    try:\n",
    "        os.chdir(f'../../../{path}')\n",
    "    except FileNotFoundError:\n",
    "        os.chdir(f'{path}')\n",
    "        \n",
    "    # open annot file\n",
    "    annotation_file = '_annotations.coco.json'\n",
    "    with open(annotation_file, 'r') as file:\n",
    "        data = json.load(file)\n",
    "    # list of pictures\n",
    "    filenames = os.listdir()\n",
    "    unique_files = remove_duplicate_filenames(filenames)\n",
    "    print(\"Unique filenames after removing duplicates:\", len(unique_files))\n",
    "    print(\"The number of annotations before cleaning:\", len(data['annotations']))\n",
    "\n",
    "    #clearing annotation file\n",
    "    image_ids = []\n",
    "    for file in unique_files:\n",
    "        for line in data['images']:\n",
    "            if file in line['file_name']:\n",
    "                image_ids.append(line['id'])\n",
    "    print('The number of Image IDs'len(image_ids)) \n",
    "    \n",
    "    #finding which lines for unique pictures to take\n",
    "    nesessary_lines = [line for line in data['annotations'] if line['image_id'] in image_ids]\n",
    "    print(len(nesessary_lines))\n",
    "\n",
    "    #substitute the annotations\n",
    "    data['annotations'] = nesessary_lines\n",
    "    #save new annotation file\n",
    "    with open('_annotations_cleared.json', 'w', encoding='utf-8') as f:\n",
    "    json.dump(data, f, ensure_ascii=False, indent=4)"
   ]
  }
 ],
 "metadata": {
  "kernelspec": {
   "display_name": "Python 3 (ipykernel)",
   "language": "python",
   "name": "python3"
  },
  "language_info": {
   "codemirror_mode": {
    "name": "ipython",
    "version": 3
   },
   "file_extension": ".py",
   "mimetype": "text/x-python",
   "name": "python",
   "nbconvert_exporter": "python",
   "pygments_lexer": "ipython3",
   "version": "3.12.4"
  }
 },
 "nbformat": 4,
 "nbformat_minor": 5
}
